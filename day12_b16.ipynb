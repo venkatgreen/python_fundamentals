{
 "cells": [
  {
   "cell_type": "code",
   "execution_count": 1,
   "metadata": {},
   "outputs": [],
   "source": [
    "present_value = 100"
   ]
  },
  {
   "cell_type": "code",
   "execution_count": 2,
   "metadata": {},
   "outputs": [
    {
     "name": "stdout",
     "output_type": "stream",
     "text": [
      "100\n"
     ]
    }
   ],
   "source": [
    "print(present_value)"
   ]
  },
  {
   "cell_type": "code",
   "execution_count": null,
   "metadata": {},
   "outputs": [],
   "source": [
    "# while lopps"
   ]
  },
  {
   "cell_type": "code",
   "execution_count": 3,
   "metadata": {},
   "outputs": [
    {
     "name": "stdout",
     "output_type": "stream",
     "text": [
      "100\n",
      "90\n",
      "80\n",
      "70\n",
      "60\n",
      "50\n",
      "40\n",
      "30\n",
      "20\n",
      "10\n"
     ]
    }
   ],
   "source": [
    "while present_value >= 1:\n",
    "    print(present_value)\n",
    "    present_value -=10"
   ]
  },
  {
   "cell_type": "code",
   "execution_count": null,
   "metadata": {},
   "outputs": [],
   "source": []
  },
  {
   "cell_type": "code",
   "execution_count": 4,
   "metadata": {},
   "outputs": [],
   "source": [
    "c = \"\\nTell me your name and i will repeat it:\"\n",
    "\n",
    "c += \"\\n enter 'q' to end the program\""
   ]
  },
  {
   "cell_type": "code",
   "execution_count": 5,
   "metadata": {},
   "outputs": [
    {
     "name": "stdout",
     "output_type": "stream",
     "text": [
      "\n",
      "Tell me your name and i will repeat it:\n",
      " enter 'q' to end the programhello all\n",
      "hello all\n",
      "\n",
      "Tell me your name and i will repeat it:\n",
      " enter 'q' to end the programwelcome\n",
      "welcome\n",
      "\n",
      "Tell me your name and i will repeat it:\n",
      " enter 'q' to end the programq\n",
      "q\n"
     ]
    }
   ],
   "source": [
    "message = ''\n",
    "\n",
    "while message !='q':\n",
    "    message = input(c)\n",
    "    print(message)"
   ]
  },
  {
   "cell_type": "code",
   "execution_count": 6,
   "metadata": {},
   "outputs": [],
   "source": [
    "sample =\"\\nwrite something i will repeat it for you:\"\n",
    "sample +=\"\\nplease enter 'c' to end the program:\"\n"
   ]
  },
  {
   "cell_type": "code",
   "execution_count": 7,
   "metadata": {},
   "outputs": [
    {
     "name": "stdout",
     "output_type": "stream",
     "text": [
      "\n",
      "write something i will repeat it for you:\n",
      "please enter 'c' to end the program:hi\n",
      "hi\n",
      "\n",
      "write something i will repeat it for you:\n",
      "please enter 'c' to end the program:hello\n",
      "hello\n",
      "\n",
      "write something i will repeat it for you:\n",
      "please enter 'c' to end the program:venkat\n",
      "venkat\n",
      "\n",
      "write something i will repeat it for you:\n",
      "please enter 'c' to end the program:c\n",
      "c\n"
     ]
    }
   ],
   "source": [
    "test =''\n",
    "while test != 'c':\n",
    "    test=input(sample)\n",
    "    print(test)"
   ]
  },
  {
   "cell_type": "code",
   "execution_count": null,
   "metadata": {},
   "outputs": [],
   "source": []
  },
  {
   "cell_type": "code",
   "execution_count": null,
   "metadata": {},
   "outputs": [],
   "source": [
    "#   functions"
   ]
  },
  {
   "cell_type": "code",
   "execution_count": 8,
   "metadata": {},
   "outputs": [],
   "source": [
    "def wish_user():\n",
    "    \"\"\" wishing a user\"\"\"\n",
    "    print('hello')\n"
   ]
  },
  {
   "cell_type": "code",
   "execution_count": 9,
   "metadata": {},
   "outputs": [
    {
     "name": "stdout",
     "output_type": "stream",
     "text": [
      "hello\n"
     ]
    }
   ],
   "source": [
    "wish_user()"
   ]
  },
  {
   "cell_type": "code",
   "execution_count": null,
   "metadata": {},
   "outputs": [],
   "source": [
    "# greet users with function"
   ]
  },
  {
   "cell_type": "code",
   "execution_count": 10,
   "metadata": {},
   "outputs": [],
   "source": [
    "def wish_usr(user):\n",
    "    \"\"\"wishing a user with name\"\"\"\n",
    "    print(f\"Hello,welcome back ,{user.title()}\")"
   ]
  },
  {
   "cell_type": "code",
   "execution_count": 11,
   "metadata": {},
   "outputs": [
    {
     "name": "stdout",
     "output_type": "stream",
     "text": [
      "Hello,welcome back ,Venkat\n"
     ]
    }
   ],
   "source": [
    "wish_usr('venkat')"
   ]
  },
  {
   "cell_type": "code",
   "execution_count": 12,
   "metadata": {},
   "outputs": [
    {
     "name": "stdout",
     "output_type": "stream",
     "text": [
      "Hello,welcome back ,Helen\n"
     ]
    }
   ],
   "source": [
    "wish_usr('helen')"
   ]
  },
  {
   "cell_type": "code",
   "execution_count": null,
   "metadata": {},
   "outputs": [],
   "source": []
  }
 ],
 "metadata": {
  "kernelspec": {
   "display_name": "Python 3",
   "language": "python",
   "name": "python3"
  },
  "language_info": {
   "codemirror_mode": {
    "name": "ipython",
    "version": 3
   },
   "file_extension": ".py",
   "mimetype": "text/x-python",
   "name": "python",
   "nbconvert_exporter": "python",
   "pygments_lexer": "ipython3",
   "version": "3.7.6"
  }
 },
 "nbformat": 4,
 "nbformat_minor": 4
}
