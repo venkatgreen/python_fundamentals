{
 "cells": [
  {
   "cell_type": "code",
   "execution_count": null,
   "metadata": {},
   "outputs": [],
   "source": [
    "# return value"
   ]
  },
  {
   "cell_type": "code",
   "execution_count": 1,
   "metadata": {},
   "outputs": [],
   "source": [
    "def get_name(first_name,last_name):\n",
    "    \"\"\"Return full name of the person\"\"\"\n",
    "    full_name = f\"{first_name} {last_name}\"\n",
    "    return full_name.title()"
   ]
  },
  {
   "cell_type": "code",
   "execution_count": 8,
   "metadata": {},
   "outputs": [
    {
     "data": {
      "text/plain": [
       "'Akshay Kumar'"
      ]
     },
     "execution_count": 8,
     "metadata": {},
     "output_type": "execute_result"
    }
   ],
   "source": [
    "get_name('akshay','kumar')"
   ]
  },
  {
   "cell_type": "code",
   "execution_count": 5,
   "metadata": {},
   "outputs": [
    {
     "name": "stdout",
     "output_type": "stream",
     "text": [
      "Venkat G\n"
     ]
    }
   ],
   "source": [
    "p2 = get_name('venkat','g')\n",
    "\n",
    "print(p2)"
   ]
  },
  {
   "cell_type": "code",
   "execution_count": 9,
   "metadata": {},
   "outputs": [
    {
     "name": "stdout",
     "output_type": "stream",
     "text": [
      "Akshay Kumar\n"
     ]
    }
   ],
   "source": [
    "print(p1)"
   ]
  },
  {
   "cell_type": "code",
   "execution_count": null,
   "metadata": {},
   "outputs": [],
   "source": [
    "# returning a dictionary"
   ]
  },
  {
   "cell_type": "code",
   "execution_count": 24,
   "metadata": {},
   "outputs": [],
   "source": [
    "def define_person(first_name,last_name):\n",
    "    \"\"\"Return a dictionary of info about a person\"\"\"\n",
    "    person = {'first':first_name.title(),'last':last_name.upper()}\n",
    "    return person"
   ]
  },
  {
   "cell_type": "code",
   "execution_count": 25,
   "metadata": {},
   "outputs": [
    {
     "name": "stdout",
     "output_type": "stream",
     "text": [
      "{'first': 'Venkat', 'last': 'G'}\n"
     ]
    }
   ],
   "source": [
    "a1 = define_person('venkat','g')\n",
    "\n",
    "print(a1)"
   ]
  },
  {
   "cell_type": "code",
   "execution_count": null,
   "metadata": {},
   "outputs": [],
   "source": []
  },
  {
   "cell_type": "code",
   "execution_count": null,
   "metadata": {},
   "outputs": [],
   "source": [
    "# parameters extending in a functiuon"
   ]
  },
  {
   "cell_type": "code",
   "execution_count": null,
   "metadata": {},
   "outputs": [],
   "source": []
  },
  {
   "cell_type": "code",
   "execution_count": 28,
   "metadata": {},
   "outputs": [],
   "source": [
    "def define_person(first_name,last_name,age,location,pincode):\n",
    "    \"\"\"Return a dictionary of info  of ,a person\"\"\"\n",
    "    person = {'first':first_name.title(),'last':last_name.upper(),'current_age':age,'residence':location.title(),'geo-location':pincode}\n",
    "    return person"
   ]
  },
  {
   "cell_type": "code",
   "execution_count": 29,
   "metadata": {},
   "outputs": [
    {
     "name": "stdout",
     "output_type": "stream",
     "text": [
      "{'first': 'Venkat', 'last': 'G', 'current_age': '28', 'residence': 'Bangalore', 'geo-location': '560066'}\n"
     ]
    }
   ],
   "source": [
    "a2 = define_person('venkat','g','28','bangalore','560066')\n",
    "\n",
    "print(a2)"
   ]
  },
  {
   "cell_type": "code",
   "execution_count": null,
   "metadata": {},
   "outputs": [],
   "source": []
  },
  {
   "cell_type": "code",
   "execution_count": null,
   "metadata": {},
   "outputs": [],
   "source": [
    "# passing a employ list to congratulate with use of a function "
   ]
  },
  {
   "cell_type": "code",
   "execution_count": 30,
   "metadata": {},
   "outputs": [
    {
     "name": "stdout",
     "output_type": "stream",
     "text": [
      "['faraz', 'vivek', 'veena', 'anu', 'hafeez', 'ram', 'venkat']\n"
     ]
    }
   ],
   "source": [
    "employs = ['faraz','vivek','veena','anu','hafeez','ram','venkat']\n",
    "\n",
    "print(employs)"
   ]
  },
  {
   "cell_type": "code",
   "execution_count": 35,
   "metadata": {},
   "outputs": [],
   "source": [
    "def appreciate_employ(names):\n",
    "    \"\"\"COngratulate employs who are worked very well\"\"\"\n",
    "    for x in names:\n",
    "        message = f\"congrtualtions {x.upper()} \\nKeep up the good work.\\n\" \n",
    "        print(message)"
   ]
  },
  {
   "cell_type": "code",
   "execution_count": 36,
   "metadata": {},
   "outputs": [
    {
     "name": "stdout",
     "output_type": "stream",
     "text": [
      "congrtualtions FARAZ \n",
      "Keep up the good work.\n",
      "\n",
      "congrtualtions VIVEK \n",
      "Keep up the good work.\n",
      "\n",
      "congrtualtions VEENA \n",
      "Keep up the good work.\n",
      "\n",
      "congrtualtions ANU \n",
      "Keep up the good work.\n",
      "\n",
      "congrtualtions HAFEEZ \n",
      "Keep up the good work.\n",
      "\n",
      "congrtualtions RAM \n",
      "Keep up the good work.\n",
      "\n",
      "congrtualtions VENKAT \n",
      "Keep up the good work.\n",
      "\n"
     ]
    }
   ],
   "source": [
    "appreciate_employ(employs)"
   ]
  },
  {
   "cell_type": "code",
   "execution_count": null,
   "metadata": {},
   "outputs": [],
   "source": []
  }
 ],
 "metadata": {
  "kernelspec": {
   "display_name": "Python 3",
   "language": "python",
   "name": "python3"
  },
  "language_info": {
   "codemirror_mode": {
    "name": "ipython",
    "version": 3
   },
   "file_extension": ".py",
   "mimetype": "text/x-python",
   "name": "python",
   "nbconvert_exporter": "python",
   "pygments_lexer": "ipython3",
   "version": "3.7.6"
  }
 },
 "nbformat": 4,
 "nbformat_minor": 4
}
